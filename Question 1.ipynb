{
 "cells": [
  {
   "cell_type": "code",
   "execution_count": 4,
   "metadata": {},
   "outputs": [
    {
     "name": "stdout",
     "output_type": "stream",
     "text": [
      "                            OLS Regression Results                            \n",
      "==============================================================================\n",
      "Dep. Variable:                      Y   R-squared:                       0.698\n",
      "Model:                            OLS   Adj. R-squared:                  0.662\n",
      "Method:                 Least Squares   F-statistic:                     19.61\n",
      "Date:                Sun, 20 Apr 2025   Prob (F-statistic):           3.84e-05\n",
      "Time:                        04:14:09   Log-Likelihood:                -57.076\n",
      "No. Observations:                  20   AIC:                             120.2\n",
      "Df Residuals:                      17   BIC:                             123.1\n",
      "Df Model:                           2                                         \n",
      "Covariance Type:            nonrobust                                         \n",
      "==============================================================================\n",
      "                 coef    std err          t      P>|t|      [0.025      0.975]\n",
      "------------------------------------------------------------------------------\n",
      "const         95.9662      8.919     10.760      0.000      77.148     114.784\n",
      "W             -9.1057      2.053     -4.434      0.000     -13.438      -4.773\n",
      "X              1.5149      0.373      4.062      0.001       0.728       2.302\n",
      "==============================================================================\n",
      "Omnibus:                        3.565   Durbin-Watson:                   1.876\n",
      "Prob(Omnibus):                  0.168   Jarque-Bera (JB):                1.670\n",
      "Skew:                           0.577   Prob(JB):                        0.434\n",
      "Kurtosis:                       3.820   Cond. No.                         206.\n",
      "==============================================================================\n",
      "\n",
      "Notes:\n",
      "[1] Standard Errors assume that the covariance matrix of the errors is correctly specified.\n"
     ]
    }
   ],
   "source": [
    "import pandas as pd\n",
    "import statsmodels.api as sm\n",
    "\n",
    "# Build the DataFrame\n",
    "data = {\n",
    "    'W': [0,1,1,1,0,1,1,0,0,1,1,0,0,1,0,1,0,0,1,1],\n",
    "    'X': [19.8,23.4,27.7,24.6,21.5,25.1,22.4,29.3,20.8,\n",
    "          20.2,27.3,24.5,22.9,18.4,24.2,21.0,25.9,23.2,21.6,22.8],\n",
    "    'Y': [137,118,124,124,120,129,122,142,128,114,\n",
    "          132,130,130,112,132,117,134,132,121,128]\n",
    "}\n",
    "df = pd.DataFrame(data)\n",
    "\n",
    "# Specify regressors and add the intercept\n",
    "X = sm.add_constant(df[['W','X']])  # columns: const, W, X\n",
    "y = df['Y']\n",
    "\n",
    "# Fit OLS and print summary, as the previous 'LinearRegression' object has no attribute 'summary'\n",
    "model = sm.OLS(y, X).fit()\n",
    "print(model.summary())"
   ]
  },
  {
   "cell_type": "code",
   "execution_count": 5,
   "metadata": {},
   "outputs": [
    {
     "name": "stdout",
     "output_type": "stream",
     "text": [
      "α̂  = 95.9662\n",
      "τ̂  = -9.1057 (p‑value = 0.0004)\n",
      "β̂  = 1.5149\n"
     ]
    }
   ],
   "source": [
    "alpha_hat = model.params['const']\n",
    "tau_hat   = model.params['W']\n",
    "beta_hat  = model.params['X']\n",
    "\n",
    "pval_tau  = model.pvalues['W']\n",
    "\n",
    "print(f\"α̂  = {alpha_hat:.4f}\")\n",
    "print(f\"τ̂  = {tau_hat:.4f} (p‑value = {pval_tau:.4f})\")\n",
    "print(f\"β̂  = {beta_hat:.4f}\")"
   ]
  }
 ],
 "metadata": {
  "kernelspec": {
   "display_name": "base",
   "language": "python",
   "name": "python3"
  },
  "language_info": {
   "codemirror_mode": {
    "name": "ipython",
    "version": 3
   },
   "file_extension": ".py",
   "mimetype": "text/x-python",
   "name": "python",
   "nbconvert_exporter": "python",
   "pygments_lexer": "ipython3",
   "version": "3.11.7"
  }
 },
 "nbformat": 4,
 "nbformat_minor": 2
}
